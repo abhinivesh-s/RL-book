{
 "cells": [
  {
   "cell_type": "markdown",
   "id": "4dd9f6d9-4680-42d4-a1cd-1861eb96175b",
   "metadata": {
    "tags": []
   },
   "source": [
    "# Chapter 2.3 - Classes and Interfaces"
   ]
  },
  {
   "cell_type": "markdown",
   "id": "f535baa1-4830-451c-b335-e3f349d3e40a",
   "metadata": {},
   "source": [
    "One of the key building blocks for Reinforcement Learning—all of statistics and machine learning, re- ally—is Probability. How are we going to handle uncertainty and randomness in our code?"
   ]
  },
  {
   "cell_type": "code",
   "execution_count": 3,
   "id": "3fbbb35e-f2f3-4377-b113-adecc169ec49",
   "metadata": {},
   "outputs": [],
   "source": [
    "from random import randint\n",
    "\n",
    "# Rolling 2 6-sided dice.\n",
    "\n",
    "def six_sided():\n",
    "    return randint(1, 6)\n",
    "def roll_dice():\n",
    "    return six_sided() + six_sided()"
   ]
  },
  {
   "cell_type": "markdown",
   "id": "63cfeff1-1065-4669-831e-b2ac4f12985b",
   "metadata": {},
   "source": [
    "This works, but it’s pretty limited. We can’t do anything except get one outcome at a time. More importantly, this only captures a slice of how we think about Probability: there’s randomness but we never even mentioned probability distributions"
   ]
  },
  {
   "cell_type": "markdown",
   "id": "a29e03d9-8ce6-4587-90d9-cff84e56df5f",
   "metadata": {
    "tags": []
   },
   "source": [
    "### 2.3.1 A Distribution Interface\n",
    "\n",
    "How do we represent a distribution in code? What can we do with distributions? That depends on exactly what kind of distribution we’re working with. If we know something about the structure of a distribution—perhaps it’s a Poisson distribution where λ = 5, perhaps it’s an empirical distribution with set probabilities for each outcome—we could do quite a bit: produce an exact Probability Distribution Function (PDF) or Cumulative Distribution Function (CDF), calculate expectations and do various operations eﬀiciently. But that isn’t the case for all the distributions we work with! What if the distribution comes from a complicated simulation? At the extreme, we might not be able to do anything except\n",
    "draw samples from the distribution.\n",
    "\n",
    "Sampling is the least common denominator. We can sample distributions where we\n",
    "don’t know enough to do anything else, and we can sample distributions where we know the exact form and parameters. Any abstraction we start with for a probability distribution needs to cover sampling, and any abstraction that requires more than just sampling will not let us handle all the distributions we care about."
   ]
  },
  {
   "cell_type": "code",
   "execution_count": 2,
   "id": "27a719f8-06ed-4a10-b8cc-dbc7adea17fe",
   "metadata": {},
   "outputs": [],
   "source": [
    "from abc import ABC, abstractmethod\n",
    "class Distribution(ABC):\n",
    "    @abstractmethod\n",
    "    def sample(self):\n",
    "        pass"
   ]
  },
  {
   "cell_type": "markdown",
   "id": "74417641-3689-48d0-9ef5-7123d414d3b9",
   "metadata": {},
   "source": [
    "This class defines an interface: a definition of what we require for something to qualify as a distribution. Any kind of distribution we implement in the future will be able to, at minimum, generate samples.\n",
    "\n",
    "The class itself does not actually implement sample. Distribution captures the abstract concept of distributions that we can sample, but we would need to specify a specific distri- bution to actually sample anything. To reflect this in Python, we’ve made Distribution an abstract base class (ABC), with sample as an abstract method—a method without an implementation."
   ]
  },
  {
   "cell_type": "code",
   "execution_count": null,
   "id": "c8d9a417-de79-4b36-bfa3-05858bb03961",
   "metadata": {},
   "outputs": [],
   "source": []
  }
 ],
 "metadata": {
  "kernelspec": {
   "display_name": "venv",
   "language": "python",
   "name": "venv"
  },
  "language_info": {
   "codemirror_mode": {
    "name": "ipython",
    "version": 3
   },
   "file_extension": ".py",
   "mimetype": "text/x-python",
   "name": "python",
   "nbconvert_exporter": "python",
   "pygments_lexer": "ipython3",
   "version": "3.9.12"
  }
 },
 "nbformat": 4,
 "nbformat_minor": 5
}
