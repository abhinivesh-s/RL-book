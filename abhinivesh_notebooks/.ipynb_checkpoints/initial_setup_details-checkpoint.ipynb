{
 "cells": [
  {
   "cell_type": "markdown",
   "id": "0f38bc82-852e-41fe-9c7d-9c2d72315543",
   "metadata": {
    "tags": []
   },
   "source": [
    "# Setting up!\n",
    "\n",
    "1. Fork the GitHub repo from: https://github.com/TikhonJelvis/RL-book into your own repo.\n",
    "2. Copy the URL from the forked repo - https://github.com/abhinivesh-s/RL-book.\n",
    "3. Use the command \"git clone \\<URL\\>\"\n",
    "4. \"cd\" into that directory (cd Desktop/RL-book)\n",
    "5. \"python -m venv .venv\"\n",
    "6. Activate the venv everytime you start: \"source .venv/bin/activate\"\n",
    "7. Install all the requirements \"pip install -r requirements.txt\"\n",
    "8. Check if installation is done correctly: \"python -m unittest discover\" - this should produce \"OK\" at the end.\n",
    "9. Do \"ipython kernel install --user --name=venv\" to make a venv kernel in jupyter. See https://www.geeksforgeeks.org/using-jupyter-notebook-in-virtual-environment/\n",
    "10. Open jupyter lab! (from Anaconda)\n",
    "11. To open this in Chrome, do \"jupyter server list\" in terminal and copy-paste the token number from the result.   "
   ]
  },
  {
   "cell_type": "code",
   "execution_count": null,
   "id": "bd02381a-beb4-439b-8c5c-853ff0639c47",
   "metadata": {},
   "outputs": [],
   "source": []
  },
  {
   "cell_type": "markdown",
   "id": "556ab01c-849d-404f-a8db-b65da2112596",
   "metadata": {},
   "source": [
    "A Python “virtual environment” is a way to manage Python dependencies on a per-project basis. Having a different environment for different Python projects lets each project have its own version of Python libraries, which avoids problems when one project needs an older version of a library and another project needs a newer version."
   ]
  }
 ],
 "metadata": {
  "kernelspec": {
   "display_name": "venv",
   "language": "python",
   "name": "venv"
  },
  "language_info": {
   "codemirror_mode": {
    "name": "ipython",
    "version": 3
   },
   "file_extension": ".py",
   "mimetype": "text/x-python",
   "name": "python",
   "nbconvert_exporter": "python",
   "pygments_lexer": "ipython3",
   "version": "3.9.12"
  }
 },
 "nbformat": 4,
 "nbformat_minor": 5
}
